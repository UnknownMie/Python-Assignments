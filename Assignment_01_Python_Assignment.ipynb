{
  "nbformat": 4,
  "nbformat_minor": 0,
  "metadata": {
    "colab": {
      "provenance": [],
      "authorship_tag": "ABX9TyM+NdqG2tHPhkYJgx/44X06",
      "include_colab_link": true
    },
    "kernelspec": {
      "name": "python3",
      "display_name": "Python 3"
    },
    "language_info": {
      "name": "python"
    }
  },
  "cells": [
    {
      "cell_type": "markdown",
      "metadata": {
        "id": "view-in-github",
        "colab_type": "text"
      },
      "source": [
        "<a href=\"https://colab.research.google.com/github/UnknownMie/Python-Assignments/blob/main/Assignment_01_Python_Assignment.ipynb\" target=\"_parent\"><img src=\"https://colab.research.google.com/assets/colab-badge.svg\" alt=\"Open In Colab\"/></a>"
      ]
    },
    {
      "cell_type": "markdown",
      "source": [
        "\n",
        "\n",
        "---\n",
        "#**Python Assignment**\n",
        "\n",
        "---\n",
        "**Q1.** L is a list defined as L= [11, 12, 13, 14].\n",
        "\n",
        "(i) WAP to add 50 and 60 to L.\n",
        "\n",
        "(ii) WAP to remove 11 and 13from L.\n",
        "\n",
        "(iii) WAP to sort L in ascending order.\n",
        "\n",
        "(iv) WAP to sort L in descending order.\n",
        "\n",
        "(v) WAP to search for 13 in L.\n",
        "\n",
        "(vi) WAP to count the number of elements present in L.\n",
        "\n",
        "(vii) WAP to sum all the elements in L.\n",
        "\n",
        "(viii) WAP to sum all ODD numbers in L.\n",
        "\n",
        "(ix) WAP to sum all EVEN numbers in L.\n",
        "\n",
        "(x) WAP to sum all PRIME numbers in L.\n",
        "\n",
        "(xi) WAP to clear all the elements in L.\n",
        "\n",
        "(xii) WAP to delete L.\n",
        "\n"
      ],
      "metadata": {
        "id": "cJPBfyr_qX-M"
      }
    },
    {
      "cell_type": "code",
      "execution_count": 15,
      "metadata": {
        "id": "lwWaBWbbqS5p",
        "colab": {
          "base_uri": "https://localhost:8080/"
        },
        "outputId": "8b897a63-6fd1-4eee-d6f7-615a6271cd33"
      },
      "outputs": [
        {
          "output_type": "stream",
          "name": "stdout",
          "text": [
            "Numbers added successfully\n",
            "Numbers removed successfully\n",
            "Numbers after deletion\n",
            "[12, 13, 50, 60]\n",
            "Numbers after sorting in ascending order\n",
            "[12, 13, 50, 60]\n",
            "Numbers after sorting in descending order\n",
            "[60, 50, 13, 12]\n",
            "Number found\n",
            "Number of elements present in L are  4\n",
            "Sum of all elements in the list is 135\n",
            "Sum of all odd elements in the list is 13\n",
            "Sum of all even elements in the list is 122\n",
            "Sum of all prime elements in the list is 13\n",
            "L is cleared successfully\n",
            "[]\n",
            "L is deleted successfully\n"
          ]
        }
      ],
      "source": [
        "L=[11, 12, 13, 14]\n",
        "#1\n",
        "L.append(50)\n",
        "L.append(60)\n",
        "print(\"Numbers added successfully\")\n",
        "#2\n",
        "del L[0]\n",
        "del L[2]\n",
        "print(\"Numbers removed successfully\")\n",
        "print(\"Numbers after deletion\")\n",
        "print(L)\n",
        "#3\n",
        "L.sort()\n",
        "print(\"Numbers after sorting in ascending order\")\n",
        "print(L)\n",
        "#4\n",
        "L.sort(reverse=True)\n",
        "print(\"Numbers after sorting in descending order\")\n",
        "print(L)\n",
        "#5\n",
        "if(13 in L)==True:\n",
        "  print(\"Number found\")\n",
        "else:\n",
        "  print(\"Number not found\")\n",
        "#6\n",
        "print(\"Number of elements present in L are \",len(L))\n",
        "#7\n",
        "sum = 0\n",
        "for i in L:\n",
        "  sum = sum + i\n",
        "print(\"Sum of all elements in the list is\" ,sum)\n",
        "#8\n",
        "sum = 0\n",
        "for i in L:\n",
        "  if(i%2!=0):\n",
        "    sum = sum + i\n",
        "print(\"Sum of all odd elements in the list is\" ,sum)\n",
        "#9\n",
        "sum = 0\n",
        "for i in L:\n",
        "  if(i%2==0):\n",
        "    sum = sum + i\n",
        "print(\"Sum of all even elements in the list is\" ,sum)\n",
        "#10\n",
        "def isprime(n):\n",
        "\tfor i in range(2, n//2 + 1):\n",
        "\t\tif n%i==0:\n",
        "\t\t\treturn 0\n",
        "\treturn 1\n",
        "sum = 0\n",
        "for i in L:\n",
        "  if(isprime(i)):\n",
        "    sum = sum + i\n",
        "print(\"Sum of all prime elements in the list is\" ,sum)\n",
        "#11\n",
        "L.clear()\n",
        "print(\"L is cleared successfully\")\n",
        "print(L)\n",
        "#12\n",
        "del(L)\n",
        "print(\"L is deleted successfully\")"
      ]
    },
    {
      "cell_type": "markdown",
      "source": [
        "\n",
        "\n",
        "---\n",
        "**Q2.** D is a dictionary defined as D= {1:5.6, 2:7.8, 3:6.6, 4:8.7, 5:7.7}.\n",
        "\n",
        "(i) WAP to add new entry in D; key=8 and value is 8.8\n",
        "\n",
        "(ii) WAP to remove key=2.\n",
        "\n",
        "(iii) WAP to check weather 6 key is present in D.\n",
        "\n",
        "(iv) WAP to count the number of elements present in D.\n",
        "\n",
        "(v) WAP to add all the values present D.\n",
        "\n",
        "(vi) WAP to update the value of 3 to 7.1.\n",
        "\n",
        "(vii) WAP to clear the dictionary.\n"
      ],
      "metadata": {
        "id": "qWlbIp7_yZ7b"
      }
    },
    {
      "cell_type": "code",
      "source": [
        "D= {1:5.6, 2:7.8, 3:6.6, 4:8.7, 5:7.7}\n",
        "#1\n",
        "D[8]=8.8\n",
        "print(D)\n",
        "#2\n",
        "del D[2]\n",
        "print(D)\n",
        "#3\n",
        "if(6 in D):\n",
        "  print(\"Key present \")\n",
        "else:\n",
        "  print(\"Key absent\")\n",
        "#4\n",
        "print(\"Number of elements present in D are\",len(D))\n",
        "#5\n",
        "sum=0\n",
        "for i in D:\n",
        "  sum = sum + D[i]\n",
        "print(\"Sum of values in D are\",sum)\n",
        "#6\n",
        "D[3]=7.1\n",
        "print(\"Value updated successfully\", D)\n",
        "#7\n",
        "D.clear()\n",
        "print(\"Dictionary cleared\", D)\n"
      ],
      "metadata": {
        "id": "BBcMbKL2yqVy",
        "colab": {
          "base_uri": "https://localhost:8080/"
        },
        "outputId": "721471f0-caee-4f74-f8ed-48157048e53a"
      },
      "execution_count": 16,
      "outputs": [
        {
          "output_type": "stream",
          "name": "stdout",
          "text": [
            "{1: 5.6, 2: 7.8, 3: 6.6, 4: 8.7, 5: 7.7, 8: 8.8}\n",
            "{1: 5.6, 3: 6.6, 4: 8.7, 5: 7.7, 8: 8.8}\n",
            "Key absent\n",
            "Number of elements present in D are 5\n",
            "Sum of values in D are 37.4\n",
            "Value updated successfully {1: 5.6, 3: 7.1, 4: 8.7, 5: 7.7, 8: 8.8}\n",
            "Dictionary cleared {}\n"
          ]
        }
      ]
    },
    {
      "cell_type": "markdown",
      "source": [
        "\n",
        "\n",
        "---\n",
        "**Q3.** S1 is a set defined as S1= [10, 20, 30, 40, 50, 60]. S2 is a set defined as S2= [40, 50, 60, 70, 80, 90].\n",
        "\n",
        "(i) WAP to add 55 and 66 in Set S1.\n",
        "\n",
        "(ii) WAP to remove 10 and 30 from Set S1.\n",
        "\n",
        "(iii) WAP to check whether 40 is present in S1.\n",
        "\n",
        "(iv) WAP to find the union between S1 and S2.\n",
        "\n",
        "(v) WAP to find the intersection between S1 and S2.\n",
        "\n",
        "(vi) WAP to find the S1 - S2."
      ],
      "metadata": {
        "id": "MHRlC0au48A5"
      }
    },
    {
      "cell_type": "code",
      "source": [
        "S1= set([10, 20, 30, 40, 50, 60])\n",
        "S2= set([40, 50, 60, 70, 80, 90])\n",
        "#1\n",
        "S1.add(55)\n",
        "S1.add(66)\n",
        "print(S1)\n",
        "#2\n",
        "S1.remove(10)\n",
        "S1.remove(30)\n",
        "print(\"Removed\")\n",
        "#3\n",
        "if(40 in S1):\n",
        "  print(\"Key present \")\n",
        "else:\n",
        "  print(\"Key absent\")\n",
        "#4\n",
        "print(\"Union --> \",S1.union(S2))\n",
        "#5\n",
        "print(\"Intersection --> \",S1.intersection(S2))\n",
        "#6\n",
        "print(\"Difference --> \",S1.difference(S2))\n",
        "\n",
        "\n",
        "\n"
      ],
      "metadata": {
        "id": "bIuyqZDJ5NPG",
        "colab": {
          "base_uri": "https://localhost:8080/"
        },
        "outputId": "081586a5-0aec-47e4-f992-ce797c1f8e6a"
      },
      "execution_count": 17,
      "outputs": [
        {
          "output_type": "stream",
          "name": "stdout",
          "text": [
            "{66, 40, 10, 50, 20, 55, 60, 30}\n",
            "Removed\n",
            "Key present \n",
            "Union -->  {66, 70, 40, 80, 50, 20, 55, 90, 60}\n",
            "Intersection -->  {40, 50, 60}\n",
            "Difference -->  {66, 20, 55}\n"
          ]
        }
      ]
    },
    {
      "cell_type": "markdown",
      "source": [
        "\n",
        "\n",
        "---\n",
        "**Q4.** Write the following program.\n",
        "\n",
        "(i) WAP to print 100 random strings whose length between 6 and 8.\n",
        "\n",
        "(ii) WAP to print all prime numbers between 600 and 800.\n",
        "\n",
        "(iii) WAP to print all numbers between 100 and 1000 that are divisible by 7 and 9."
      ],
      "metadata": {
        "id": "mQeRbjFp9gl2"
      }
    },
    {
      "cell_type": "code",
      "source": [
        "import string as s\n",
        "import random as r\n",
        "#1\n",
        "for i in range(0,100):\n",
        "  length = r.randint(6, 8)\n",
        "  random_string = ''.join(r.sample(s.ascii_letters,k=length))\n",
        "  print(random_string)\n",
        "#2\n",
        "def isprime(n):\n",
        "\tfor i in range(2, n//2 + 1):\n",
        "\t\tif n%i==0:\n",
        "\t\t\treturn 0\n",
        "\treturn 1\n",
        "\n",
        "print(\"Prime Numbers between 600 and 800\")\n",
        "for i in range(600,800):\n",
        "  if isprime(i):\n",
        "    print(i)\n",
        "#3\n",
        "print(\"Numbers between 100 and 1000 that are divisible by 7 and 9\")\n",
        "for i in range(100,1000):\n",
        "  if i%7==0 and i%9==0:\n",
        "    print(i)\n"
      ],
      "metadata": {
        "id": "WhT-hVYv9o6o",
        "colab": {
          "base_uri": "https://localhost:8080/"
        },
        "outputId": "4f44ecdd-fe0a-46bb-c65c-335242d5913c"
      },
      "execution_count": 18,
      "outputs": [
        {
          "output_type": "stream",
          "name": "stdout",
          "text": [
            "SURvEWIj\n",
            "KYxriNG\n",
            "XFpvIKl\n",
            "ZCQSUtWo\n",
            "pIzueJ\n",
            "UtMzeV\n",
            "dAijLqxW\n",
            "cUpIbEh\n",
            "USxtojOb\n",
            "ZsxoCDm\n",
            "nYskZLfK\n",
            "fwPnBKrg\n",
            "qjiuZW\n",
            "kjZnvKT\n",
            "CDhRWVw\n",
            "KBmzVE\n",
            "GHbBjxF\n",
            "cICuwnxR\n",
            "BLCacVEg\n",
            "eOGDFMXZ\n",
            "KdXcBqgR\n",
            "EPeTdgq\n",
            "aGicCsFg\n",
            "ojwmZC\n",
            "afsnGte\n",
            "GIalYDk\n",
            "wBZvreS\n",
            "xaQOyRJ\n",
            "eRDMmNr\n",
            "eVEuURMn\n",
            "gijVTm\n",
            "usGmzjF\n",
            "eJCVrx\n",
            "pGAwjLD\n",
            "SYpeZgJB\n",
            "YVlwFxf\n",
            "MkgUiF\n",
            "zxUDwuPL\n",
            "soGjuDm\n",
            "XYsnKU\n",
            "uWBHXkid\n",
            "yFvGNHD\n",
            "qFDOwob\n",
            "tzTZQMw\n",
            "iEWZFhA\n",
            "lEcjNDL\n",
            "vlIROTr\n",
            "oOLfSGvt\n",
            "TLNvspAz\n",
            "kwlmIFM\n",
            "RTapOkuA\n",
            "jDOIwc\n",
            "MGzkKJw\n",
            "EJlPOh\n",
            "YjLEIQ\n",
            "FIvCgSTw\n",
            "cThbZyiz\n",
            "trHUAMWm\n",
            "hinTesMY\n",
            "QxuEDha\n",
            "XBbFrQ\n",
            "BEUvOAYF\n",
            "CtUoIXky\n",
            "uGLbYQC\n",
            "IVxfpP\n",
            "BmQfgJDN\n",
            "BhiWPnqC\n",
            "kjVMnSh\n",
            "AMzcYfy\n",
            "NwoBpdSY\n",
            "WoGrjRA\n",
            "TMPdFOrS\n",
            "PHwRfs\n",
            "kOQxwD\n",
            "VwuiNW\n",
            "cwqfHQ\n",
            "zVCIrD\n",
            "AkUpyE\n",
            "dTIKYk\n",
            "qbsnMmF\n",
            "aBwJCgpX\n",
            "dqaoyf\n",
            "LxXqegdC\n",
            "lFdOep\n",
            "jfRTKLm\n",
            "DfuHhgJ\n",
            "OQBsFCXK\n",
            "LSYUuRzo\n",
            "QVAwvyj\n",
            "rlOygam\n",
            "dvaGCo\n",
            "DIqjBu\n",
            "lPRiCfxn\n",
            "VZnCUPg\n",
            "pAuadx\n",
            "QmNMqX\n",
            "vquyfe\n",
            "WDHhGSom\n",
            "eSYPQpK\n",
            "EjVCTJ\n",
            "Prime Numbers between 600 and 800\n",
            "601\n",
            "607\n",
            "613\n",
            "617\n",
            "619\n",
            "631\n",
            "641\n",
            "643\n",
            "647\n",
            "653\n",
            "659\n",
            "661\n",
            "673\n",
            "677\n",
            "683\n",
            "691\n",
            "701\n",
            "709\n",
            "719\n",
            "727\n",
            "733\n",
            "739\n",
            "743\n",
            "751\n",
            "757\n",
            "761\n",
            "769\n",
            "773\n",
            "787\n",
            "797\n",
            "Numbers between 100 and 1000 that are divisible by 7 and 9\n",
            "126\n",
            "189\n",
            "252\n",
            "315\n",
            "378\n",
            "441\n",
            "504\n",
            "567\n",
            "630\n",
            "693\n",
            "756\n",
            "819\n",
            "882\n",
            "945\n"
          ]
        }
      ]
    },
    {
      "cell_type": "markdown",
      "source": [
        "\n",
        "\n",
        "---\n",
        "**Q5.** WAP to create two lists of 10 random numbers between 10 and 30; Find\n",
        "\n",
        "(i) Common numbers in the two lists\n",
        "\n",
        "(ii) Unique numbers in both the list\n",
        "\n",
        "(iii) Minimum in both the list\n",
        "\n",
        "(iv) Maximum in both the list\n",
        "\n",
        "(v) Sum of both the lists"
      ],
      "metadata": {
        "id": "E7I2nssYBcXN"
      }
    },
    {
      "cell_type": "code",
      "source": [
        "import random as r\n",
        "import string as s\n",
        "def getsum(A):\n",
        "  sum = 0\n",
        "  for i in A:\n",
        "    sum=sum+i\n",
        "  return sum\n",
        "\n",
        "A=r.sample(range(10,31),10)\n",
        "B=r.sample(range(10,31),10)\n",
        "print(\"List A is \",A)\n",
        "print(\"List B is \",B)\n",
        "#1\n",
        "common_numbers = list(set(A) & set(B))\n",
        "print(\"Common numbers:\", common_numbers)\n",
        "#2\n",
        "unique_numbers = list(set(A+B))\n",
        "print(\"Unique numbers:\", unique_numbers)\n",
        "#3\n",
        "print(\"Minimum number in A is \",min(A))\n",
        "print(\"Minimum number in B is \",min(B))\n",
        "print(\"Minimum number in A and B is \",min(min(A),min(B)))\n",
        "#4\n",
        "print(\"Maximum number in A is \",max(A))\n",
        "print(\"Maximum number in B is \",max(B))\n",
        "print(\"Maximum number in A and B is \",max(max(A),max(B)))\n",
        "#5\n",
        "sum_total = getsum(A)+getsum(B)\n",
        "print(\"Total sum of both list is \",sum_total)\n",
        "\n"
      ],
      "metadata": {
        "colab": {
          "base_uri": "https://localhost:8080/"
        },
        "id": "rlga_Jh4Hikd",
        "outputId": "017dcf60-0b66-4d4a-a9bd-214f52e05f80"
      },
      "execution_count": 19,
      "outputs": [
        {
          "output_type": "stream",
          "name": "stdout",
          "text": [
            "List A is  [23, 17, 20, 27, 18, 13, 25, 15, 14, 22]\n",
            "List B is  [26, 20, 13, 11, 27, 17, 23, 21, 24, 25]\n",
            "Common numbers: [13, 17, 20, 23, 25, 27]\n",
            "Unique numbers: [11, 13, 14, 15, 17, 18, 20, 21, 22, 23, 24, 25, 26, 27]\n",
            "Minimum number in A is  13\n",
            "Minimum number in B is  11\n",
            "Minimum number in A and B is  11\n",
            "Maximum number in A is  27\n",
            "Maximum number in B is  27\n",
            "Maximum number in A and B is  27\n",
            "Total sum of both list is  401\n"
          ]
        }
      ]
    },
    {
      "cell_type": "markdown",
      "source": [
        "\n",
        "\n",
        "---\n",
        "**Q6.** WAP to create a list of 100 random numbers between 100 and 900. Count and print the:\n",
        "\n",
        "(i) All odd numbers\n",
        "\n",
        "(ii) All even numbers\n",
        "\n",
        "(iii) All prime numbers"
      ],
      "metadata": {
        "id": "ghva52XrJQab"
      }
    },
    {
      "cell_type": "code",
      "source": [
        "A= r.sample(range(100,901), 100)\n",
        "#1\n",
        "print(\"ODD\")\n",
        "count_odd=0\n",
        "for i in A:\n",
        "  if (i%2!=0):\n",
        "    print(i)\n",
        "    count_odd=count_odd+1\n",
        "print(\"No of odd numbers are \", count_odd)\n",
        "#2\n",
        "print(\"EVEN\")\n",
        "count_even=0\n",
        "for i in A:\n",
        "  if (i%2==0):\n",
        "    print(i)\n",
        "    count_even=count_even+1\n",
        "print(\"No of even numbers are \", count_even)\n",
        "#2\n",
        "print(\"PRIME\")\n",
        "count_prime=0\n",
        "for i in A:\n",
        "  if (isprime(i)):\n",
        "    print(i)\n",
        "    count_prime=count_prime+1\n",
        "print(\"No of prime numbers are \", count_prime)\n"
      ],
      "metadata": {
        "id": "Qaxz9Ro1IIO_",
        "colab": {
          "base_uri": "https://localhost:8080/"
        },
        "outputId": "779d9bf4-5234-4bad-ec62-11934de024bd"
      },
      "execution_count": 20,
      "outputs": [
        {
          "output_type": "stream",
          "name": "stdout",
          "text": [
            "ODD\n",
            "709\n",
            "611\n",
            "859\n",
            "493\n",
            "311\n",
            "829\n",
            "897\n",
            "871\n",
            "479\n",
            "699\n",
            "685\n",
            "487\n",
            "477\n",
            "149\n",
            "773\n",
            "641\n",
            "283\n",
            "597\n",
            "231\n",
            "383\n",
            "803\n",
            "167\n",
            "885\n",
            "191\n",
            "591\n",
            "645\n",
            "769\n",
            "359\n",
            "263\n",
            "441\n",
            "643\n",
            "733\n",
            "727\n",
            "449\n",
            "139\n",
            "899\n",
            "823\n",
            "113\n",
            "569\n",
            "281\n",
            "721\n",
            "495\n",
            "751\n",
            "557\n",
            "875\n",
            "319\n",
            "701\n",
            "157\n",
            "687\n",
            "175\n",
            "741\n",
            "109\n",
            "531\n",
            "345\n",
            "No of odd numbers are  54\n",
            "EVEN\n",
            "254\n",
            "822\n",
            "224\n",
            "716\n",
            "330\n",
            "630\n",
            "638\n",
            "190\n",
            "528\n",
            "406\n",
            "138\n",
            "758\n",
            "436\n",
            "302\n",
            "712\n",
            "846\n",
            "820\n",
            "892\n",
            "626\n",
            "642\n",
            "664\n",
            "422\n",
            "532\n",
            "146\n",
            "792\n",
            "834\n",
            "170\n",
            "790\n",
            "750\n",
            "342\n",
            "514\n",
            "376\n",
            "756\n",
            "824\n",
            "604\n",
            "548\n",
            "692\n",
            "596\n",
            "636\n",
            "412\n",
            "652\n",
            "594\n",
            "784\n",
            "202\n",
            "702\n",
            "730\n",
            "No of even numbers are  46\n",
            "PRIME\n",
            "709\n",
            "859\n",
            "311\n",
            "829\n",
            "479\n",
            "487\n",
            "149\n",
            "773\n",
            "641\n",
            "283\n",
            "383\n",
            "167\n",
            "191\n",
            "769\n",
            "359\n",
            "263\n",
            "643\n",
            "733\n",
            "727\n",
            "449\n",
            "139\n",
            "823\n",
            "113\n",
            "569\n",
            "281\n",
            "751\n",
            "557\n",
            "701\n",
            "157\n",
            "109\n",
            "No of prime numbers are  30\n"
          ]
        }
      ]
    },
    {
      "cell_type": "markdown",
      "source": [
        "\n",
        "---\n",
        "**Q7.** D is a dictionary defined as D={1:\"One\",2:\"Two\",3:\"Three\",4:\"Four\", 5:\"Five\"}.\n",
        "\n",
        "WAP to read all the keys and values from dictionary and write to the file in the given below format.\n",
        "\n",
        "Key1, Value1 \n",
        "\n",
        "Key2, Value2 \n",
        "\n",
        "Key3, Value3"
      ],
      "metadata": {
        "id": "lawsmAHpKDUm"
      }
    },
    {
      "cell_type": "code",
      "source": [
        "D={1:\"One\",2:\"Two\",3:\"Three\",4:\"Four\", 5:\"Five\"}\n",
        "fp=open('Dictionary.txt','w')\t\n",
        "for i in D:\n",
        "\tfp.write(str(i)+\" , \"+D[i] + \"\\n\")\n",
        "fp.close()\n",
        "\n",
        "print (\"Writing done !! \\nOpen Dictionary.txt to view the content\")"
      ],
      "metadata": {
        "id": "dfh2fdYgKj-i",
        "colab": {
          "base_uri": "https://localhost:8080/"
        },
        "outputId": "72a5eae6-f43f-49af-fac7-e651d86efa15"
      },
      "execution_count": 21,
      "outputs": [
        {
          "output_type": "stream",
          "name": "stdout",
          "text": [
            "Writing done !! \n",
            "Open Dictionary.txt to view the content\n"
          ]
        }
      ]
    },
    {
      "cell_type": "markdown",
      "source": [
        "\n",
        "---\n",
        "**Q8.** L is a list defined as L={\"One\",\"Two\",\"Three\",\"Four\",\"Five\"}.\n",
        "\n",
        "WAP to count the length of reach element from a list and write to the file in the given below format:\n",
        "\n",
        "One, 3 \n",
        "\n",
        "Two, 3\n",
        "\n",
        " Four, 4"
      ],
      "metadata": {
        "id": "GUtojXeNLvUM"
      }
    },
    {
      "cell_type": "code",
      "source": [
        "L={\"One\",\"Two\",\"Three\",\"Four\",\"Five\"}\n",
        "fp=open('List.txt','w')\t\n",
        "for i in L:\n",
        "\tfp.write(i+\" , \"+str(len(i)) + \"\\n\")\n",
        "fp.close()\n",
        "\n",
        "print (\"Writing done !! \\nOpen List.txt to view the content\")"
      ],
      "metadata": {
        "colab": {
          "base_uri": "https://localhost:8080/"
        },
        "id": "AEbHICOcL8wo",
        "outputId": "2c906871-f5d7-486b-89a0-615191002592"
      },
      "execution_count": 22,
      "outputs": [
        {
          "output_type": "stream",
          "name": "stdout",
          "text": [
            "Writing done !! \n",
            "Open List.txt to view the content\n"
          ]
        }
      ]
    },
    {
      "cell_type": "markdown",
      "source": [
        "\n",
        "---\n",
        "**Q9.** Write to the file 100 random strings whose length between 10 and 15.\n"
      ],
      "metadata": {
        "id": "rz7EXcFQMdpN"
      }
    },
    {
      "cell_type": "code",
      "source": [
        "fp=open('100_randon_strings.txt','w')\t\n",
        "for i in range(0,100):\n",
        "  length = r.randint(10, 15)\n",
        "  random_string = ''.join(r.sample(s.ascii_letters,k=length))\n",
        "  fp.write(random_string + \"\\n\")\n",
        "fp.close()\n",
        "\n",
        "print (\"Writing done !! \\nOpen 100_randon_strings.txt to view the content\")"
      ],
      "metadata": {
        "id": "c29GIWLgMi9z",
        "colab": {
          "base_uri": "https://localhost:8080/"
        },
        "outputId": "56e37aba-46b3-44b0-b004-a971f336dd96"
      },
      "execution_count": 23,
      "outputs": [
        {
          "output_type": "stream",
          "name": "stdout",
          "text": [
            "Writing done !! \n",
            "Open 100_randon_strings.txt to view the content\n"
          ]
        }
      ]
    },
    {
      "cell_type": "markdown",
      "source": [
        "\n",
        "---\n",
        "**Q10.** Write to the file all prime numbers between 600 and 800.\n"
      ],
      "metadata": {
        "id": "jF3YxTzFNtLI"
      }
    },
    {
      "cell_type": "code",
      "source": [
        "fp=open('prime_numbers.txt','w')\n",
        "for i in range(600,800):\n",
        "  if isprime(i):\n",
        "    fp.write(str(i) +\"\\n\")\n",
        "fp.close()\n",
        "\n",
        "print (\"Writing done !! \\nOpen prime_numbers.txt to view the content\")"
      ],
      "metadata": {
        "colab": {
          "base_uri": "https://localhost:8080/"
        },
        "id": "XPFH-BJFN4cS",
        "outputId": "13c4c14b-2f6f-45f2-ed69-e9a9d68724cb"
      },
      "execution_count": 24,
      "outputs": [
        {
          "output_type": "stream",
          "name": "stdout",
          "text": [
            "Writing done !! \n",
            "Open prime_numbers.txt to view the content\n"
          ]
        }
      ]
    },
    {
      "cell_type": "markdown",
      "source": [
        "\n",
        "---\n",
        "**Q11.** WAP to calculate the time taken by a program.\n",
        "\n"
      ],
      "metadata": {
        "id": "6I08J5ZwOolT"
      }
    },
    {
      "cell_type": "code",
      "source": [
        "import time as t\n",
        "begin = t.time()\n",
        "print(\"Hello World!\") \n",
        "t.sleep(2)\n",
        "end = t.time()\n",
        "print(f\"Total runtime of the program is \",end - begin)"
      ],
      "metadata": {
        "id": "4liU9epvPa2N",
        "colab": {
          "base_uri": "https://localhost:8080/"
        },
        "outputId": "cec039fb-167b-485d-d619-68229526ab2d"
      },
      "execution_count": 25,
      "outputs": [
        {
          "output_type": "stream",
          "name": "stdout",
          "text": [
            "Hello World!\n",
            "Total runtime of the program is  2.002401828765869\n"
          ]
        }
      ]
    },
    {
      "cell_type": "markdown",
      "source": [
        "\n",
        "---\n",
        "**Q12.** WAP to sort following number of elements in a list, calculate time taken and plot the graph.\n"
      ],
      "metadata": {
        "id": "tkfuZDkZPdDg"
      }
    },
    {
      "cell_type": "code",
      "source": [
        "import time as t\n",
        "import random as r\n",
        "import matplotlib.pyplot as plt\n",
        "ul=100000\n",
        "ll=-100000\n",
        "time=[]\n",
        "size = [5000, 10000, 15000, 20000 , 25000]\n",
        "for s in size:\n",
        "  A = r.sample(range(ll,ul),s)\n",
        "  begin = t.time()\n",
        "  A.sort()\n",
        "  end = t.time()\n",
        "  time.append(end-begin)\n",
        "plt.plot(size, time, 'bo-')\n",
        "plt.xlabel('Number of Elements')\n",
        "plt.ylabel('Time Taken (Seconds)')\n",
        "plt.title('Time vs Number of Elements')\n",
        "plt.show()\n"
      ],
      "metadata": {
        "colab": {
          "base_uri": "https://localhost:8080/",
          "height": 472
        },
        "id": "VOORKigdsKWX",
        "outputId": "8471609b-f4a8-4311-ffc4-9bf5d640769c"
      },
      "execution_count": 26,
      "outputs": [
        {
          "output_type": "display_data",
          "data": {
            "text/plain": [
              "<Figure size 640x480 with 1 Axes>"
            ],
            "image/png": "[encoded data removed]"
          },
          "metadata": {}
        }
      ]
    },
    {
      "cell_type": "markdown",
      "source": [
        "\n",
        "---\n",
        "**Q13.** WAP to create a dictionary of student marks in five subjects and you have to find the student having maximum and minimum average marks.\n",
        "\n"
      ],
      "metadata": {
        "id": "Ciqebz2WPdFv"
      }
    },
    {
      "cell_type": "code",
      "source": [
        "import pandas as pd\n",
        "student_marks = {\n",
        "    \"Alice\": {\"Math\": 85, \"English\": 90, \"Science\": 92, \"History\": 88, \"Geography\": 82},\n",
        "    \"Bob\": {\"Math\": 78, \"English\": 82, \"Science\": 80, \"History\": 75, \"Geography\": 80},\n",
        "    \"Charlie\": {\"Math\": 92, \"English\": 88, \"Science\": 90, \"History\": 85, \"Geography\": 90},\n",
        "    \"David\": {\"Math\": 80, \"English\": 75, \"Science\": 78, \"History\": 82, \"Geography\": 85},\n",
        "    \"Eve\": {\"Math\": 85, \"English\": 90, \"Science\": 82, \"History\": 88, \"Geography\": 90}\n",
        "}\n",
        "average=[]\n",
        "average=pd.Series(average)\n",
        "for s,m in student_marks.items():\n",
        "  avg_marks=(getsum(m.values()))/len(m)\n",
        "  average[s]=avg_marks\n",
        "highest_marks_person = average.idxmax()\n",
        "lowest_marks_person = average.idxmin()\n",
        "print(\"Person with the highest marks:\", highest_marks_person)\n",
        "print(\"Person with the lowest marks:\", lowest_marks_person)\n",
        "\n"
      ],
      "metadata": {
        "colab": {
          "base_uri": "https://localhost:8080/"
        },
        "id": "U_WCttA2Pjjq",
        "outputId": "56dcf20b-9b6e-46b4-f97d-5deae9727223"
      },
      "execution_count": 27,
      "outputs": [
        {
          "output_type": "stream",
          "name": "stdout",
          "text": [
            "Person with the highest marks: Charlie\n",
            "Person with the lowest marks: Bob\n"
          ]
        },
        {
          "output_type": "stream",
          "name": "stderr",
          "text": [
            "<ipython-input-27-63ba2f0a6c8e>:10: FutureWarning: The default dtype for empty Series will be 'object' instead of 'float64' in a future version. Specify a dtype explicitly to silence this warning.\n",
            "  average=pd.Series(average)\n"
          ]
        }
      ]
    }
  ]
}
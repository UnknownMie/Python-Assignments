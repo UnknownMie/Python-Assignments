{
  "nbformat": 4,
  "nbformat_minor": 0,
  "metadata": {
    "colab": {
      "provenance": [],
      "authorship_tag": "ABX9TyOToBT7qpd8Ib7Iq05heEUW",
      "include_colab_link": true
    },
    "kernelspec": {
      "name": "python3",
      "display_name": "Python 3"
    },
    "language_info": {
      "name": "python"
    }
  },
  "cells": [
    {
      "cell_type": "markdown",
      "metadata": {
        "id": "view-in-github",
        "colab_type": "text"
      },
      "source": [
        "<a href=\"https://colab.research.google.com/github/UnknownMie/Python-Assignments/blob/main/Assignment_01_Python_Assignment.ipynb\" target=\"_parent\"><img src=\"https://colab.research.google.com/assets/colab-badge.svg\" alt=\"Open In Colab\"/></a>"
      ]
    },
    {
      "cell_type": "markdown",
      "source": [
        "\n",
        "\n",
        "---\n",
        "#**Python Assignment**\n",
        "\n",
        "---\n",
        "**Q1.** L is a list defined as L= [11, 12, 13, 14].\n",
        "\n",
        "(i) WAP to add 50 and 60 to L.\n",
        "\n",
        "(ii) WAP to remove 11 and 13from L.\n",
        "\n",
        "(iii) WAP to sort L in ascending order.\n",
        "\n",
        "(iv) WAP to sort L in descending order.\n",
        "\n",
        "(v) WAP to search for 13 in L.\n",
        "\n",
        "(vi) WAP to count the number of elements present in L.\n",
        "\n",
        "(vii) WAP to sum all the elements in L.\n",
        "\n",
        "(viii) WAP to sum all ODD numbers in L.\n",
        "\n",
        "(ix) WAP to sum all EVEN numbers in L.\n",
        "\n",
        "(x) WAP to sum all PRIME numbers in L.\n",
        "\n",
        "(xi) WAP to clear all the elements in L.\n",
        "\n",
        "(xii) WAP to delete L.\n",
        "\n"
      ],
      "metadata": {
        "id": "cJPBfyr_qX-M"
      }
    },
    {
      "cell_type": "code",
      "execution_count": 29,
      "metadata": {
        "id": "lwWaBWbbqS5p",
        "colab": {
          "base_uri": "https://localhost:8080/"
        },
        "outputId": "f5b57cb1-ea2f-46e4-c48e-1402127764e9"
      },
      "outputs": [
        {
          "output_type": "stream",
          "name": "stdout",
          "text": [
            "Numbers added successfully\n",
            "Numbers removed successfully\n",
            "Numbers after deletion\n",
            "[12, 13, 50, 60]\n",
            "Numbers after sorting in ascending order\n",
            "[12, 13, 50, 60]\n",
            "Numbers after sorting in descending order\n",
            "[60, 50, 13, 12]\n",
            "Number found\n",
            "Number of elements present in L are  4\n",
            "Sum of all elements in the list is 135\n",
            "Sum of all odd elements in the list is 13\n",
            "Sum of all even elements in the list is 122\n",
            "Sum of all prime elements in the list is 13\n",
            "L is cleared successfully\n",
            "[]\n",
            "L is deleted successfully\n"
          ]
        }
      ],
      "source": [
        "L=[11, 12, 13, 14]\n",
        "#1\n",
        "L.append(50)\n",
        "L.append(60)\n",
        "print(\"Numbers added successfully\")\n",
        "#2\n",
        "del L[0]\n",
        "del L[2]\n",
        "print(\"Numbers removed successfully\")\n",
        "print(\"Numbers after deletion\")\n",
        "print(L)\n",
        "#3\n",
        "L.sort()\n",
        "print(\"Numbers after sorting in ascending order\")\n",
        "print(L)\n",
        "#4\n",
        "L.sort(reverse=True)\n",
        "print(\"Numbers after sorting in descending order\")\n",
        "print(L)\n",
        "#5\n",
        "if(13 in L)==True:\n",
        "  print(\"Number found\")\n",
        "else:\n",
        "  print(\"Number not found\")\n",
        "#6\n",
        "print(\"Number of elements present in L are \",len(L))\n",
        "#7\n",
        "sum = 0\n",
        "for i in L:\n",
        "  sum = sum + i\n",
        "print(\"Sum of all elements in the list is\" ,sum)\n",
        "#8\n",
        "sum = 0\n",
        "for i in L:\n",
        "  if(i%2!=0):\n",
        "    sum = sum + i\n",
        "print(\"Sum of all odd elements in the list is\" ,sum)\n",
        "#9\n",
        "sum = 0\n",
        "for i in L:\n",
        "  if(i%2==0):\n",
        "    sum = sum + i\n",
        "print(\"Sum of all even elements in the list is\" ,sum)\n",
        "#10\n",
        "def isprime(n):\n",
        "\tfor i in range(2, n//2 + 1):\n",
        "\t\tif n%i==0:\n",
        "\t\t\treturn 0\n",
        "\treturn 1\n",
        "sum = 0\n",
        "for i in L:\n",
        "  if(isprime(i)):\n",
        "    sum = sum + i\n",
        "print(\"Sum of all prime elements in the list is\" ,sum)\n",
        "#11\n",
        "L.clear()\n",
        "print(\"L is cleared successfully\")\n",
        "print(L)\n",
        "#12\n",
        "del(L)\n",
        "print(\"L is deleted successfully\")"
      ]
    },
    {
      "cell_type": "markdown",
      "source": [
        "\n",
        "\n",
        "---\n",
        "**Q2.** D is a dictionary defined as D= {1:5.6, 2:7.8, 3:6.6, 4:8.7, 5:7.7}.\n",
        "\n",
        "(i) WAP to add new entry in D; key=8 and value is 8.8\n",
        "\n",
        "(ii) WAP to remove key=2.\n",
        "\n",
        "(iii) WAP to check weather 6 key is present in D.\n",
        "\n",
        "(iv) WAP to count the number of elements present in D.\n",
        "\n",
        "(v) WAP to add all the values present D.\n",
        "\n",
        "(vi) WAP to update the value of 3 to 7.1.\n",
        "\n",
        "(vii) WAP to clear the dictionary.\n"
      ],
      "metadata": {
        "id": "qWlbIp7_yZ7b"
      }
    },
    {
      "cell_type": "code",
      "source": [
        "D= {1:5.6, 2:7.8, 3:6.6, 4:8.7, 5:7.7}\n",
        "#1\n",
        "D[8]=8.8\n",
        "print(D)\n",
        "#2\n",
        "del D[2]\n",
        "print(D)\n",
        "#3\n",
        "if(6 in D):\n",
        "  print(\"Key present \")\n",
        "else:\n",
        "  print(\"Key absent\")\n",
        "#4\n",
        "print(\"Number of elements present in D are\",len(D))\n",
        "#5\n",
        "sum=0\n",
        "for i in D:\n",
        "  sum = sum + D[i]\n",
        "print(\"Sum of values in D are\",sum)\n",
        "#6\n",
        "D[3]=7.1\n",
        "print(\"Value updated successfully\", D)\n",
        "#7\n",
        "D.clear()\n",
        "print(\"Dictionary cleared\", D)\n"
      ],
      "metadata": {
        "id": "BBcMbKL2yqVy",
        "colab": {
          "base_uri": "https://localhost:8080/"
        },
        "outputId": "e523965c-be70-48a2-ee12-003cd2c0e98b"
      },
      "execution_count": 30,
      "outputs": [
        {
          "output_type": "stream",
          "name": "stdout",
          "text": [
            "{1: 5.6, 2: 7.8, 3: 6.6, 4: 8.7, 5: 7.7, 8: 8.8}\n",
            "{1: 5.6, 3: 6.6, 4: 8.7, 5: 7.7, 8: 8.8}\n",
            "Key absent\n",
            "Number of elements present in D are 5\n",
            "Sum of values in D are 37.4\n",
            "Value updated successfully {1: 5.6, 3: 7.1, 4: 8.7, 5: 7.7, 8: 8.8}\n",
            "Dictionary cleared {}\n"
          ]
        }
      ]
    },
    {
      "cell_type": "markdown",
      "source": [
        "\n",
        "\n",
        "---\n",
        "**Q3.** S1 is a set defined as S1= [10, 20, 30, 40, 50, 60]. S2 is a set defined as S2= [40, 50, 60, 70, 80, 90].\n",
        "\n",
        "(i) WAP to add 55 and 66 in Set S1.\n",
        "\n",
        "(ii) WAP to remove 10 and 30 from Set S1.\n",
        "\n",
        "(iii) WAP to check whether 40 is present in S1.\n",
        "\n",
        "(iv) WAP to find the union between S1 and S2.\n",
        "\n",
        "(v) WAP to find the intersection between S1 and S2.\n",
        "\n",
        "(vi) WAP to find the S1 - S2."
      ],
      "metadata": {
        "id": "MHRlC0au48A5"
      }
    },
    {
      "cell_type": "code",
      "source": [
        "S1= set([10, 20, 30, 40, 50, 60])\n",
        "S2= set([40, 50, 60, 70, 80, 90])\n",
        "#1\n",
        "S1.add(55)\n",
        "S1.add(66)\n",
        "print(S1)\n",
        "#2\n",
        "S1.remove(10)\n",
        "S1.remove(30)\n",
        "print(\"Removed\")\n",
        "#3\n",
        "if(40 in S1):\n",
        "  print(\"Key present \")\n",
        "else:\n",
        "  print(\"Key absent\")\n",
        "#4\n",
        "print(\"Union --> \",S1.union(S2))\n",
        "#5\n",
        "print(\"Intersection --> \",S1.intersection(S2))\n",
        "#6\n",
        "print(\"Difference --> \",S1.difference(S2))\n",
        "\n",
        "\n",
        "\n"
      ],
      "metadata": {
        "id": "bIuyqZDJ5NPG",
        "colab": {
          "base_uri": "https://localhost:8080/"
        },
        "outputId": "1e897ccf-91f4-40ae-99a8-619a5e321cb4"
      },
      "execution_count": 31,
      "outputs": [
        {
          "output_type": "stream",
          "name": "stdout",
          "text": [
            "{66, 40, 10, 50, 20, 55, 60, 30}\n",
            "Removed\n",
            "Key present \n",
            "Union -->  {66, 70, 40, 80, 50, 20, 55, 90, 60}\n",
            "Intersection -->  {40, 50, 60}\n",
            "Difference -->  {66, 20, 55}\n"
          ]
        }
      ]
    },
    {
      "cell_type": "markdown",
      "source": [
        "\n",
        "\n",
        "---\n",
        "**Q4.** Write the following program.\n",
        "\n",
        "(i) WAP to print 100 random strings whose length between 6 and 8.\n",
        "\n",
        "(ii) WAP to print all prime numbers between 600 and 800.\n",
        "\n",
        "(iii) WAP to print all numbers between 100 and 1000 that are divisible by 7 and 9."
      ],
      "metadata": {
        "id": "mQeRbjFp9gl2"
      }
    },
    {
      "cell_type": "code",
      "source": [
        "import string as s\n",
        "import random as r\n",
        "#1\n",
        "for i in range(0,100):\n",
        "  length = r.randint(6, 8)\n",
        "  random_string = ''.join(r.sample(s.ascii_letters,k=length))\n",
        "  print(random_string)\n",
        "#2\n",
        "def isprime(n):\n",
        "\tfor i in range(2, n//2 + 1):\n",
        "\t\tif n%i==0:\n",
        "\t\t\treturn 0\n",
        "\treturn 1\n",
        "\n",
        "print(\"Prime Numbers between 600 and 800\")\n",
        "for i in range(600,800):\n",
        "  if isprime(i):\n",
        "    print(i)\n",
        "#3\n",
        "print(\"Numbers between 100 and 1000 that are divisible by 7 and 9\")\n",
        "for i in range(100,1000):\n",
        "  if i%7==0 and i%9==0:\n",
        "    print(i)\n"
      ],
      "metadata": {
        "id": "WhT-hVYv9o6o",
        "colab": {
          "base_uri": "https://localhost:8080/"
        },
        "outputId": "f55738f6-6bdc-4304-893d-70e7a57dd61a"
      },
      "execution_count": 32,
      "outputs": [
        {
          "output_type": "stream",
          "name": "stdout",
          "text": [
            "peHaMQwh\n",
            "VrBLER\n",
            "BjqoGPva\n",
            "oASBamRH\n",
            "kpPsdDcW\n",
            "JzmaIEu\n",
            "erIpGq\n",
            "BVfKytA\n",
            "BnWTKmA\n",
            "aTrxLw\n",
            "IHZUpjf\n",
            "JMLSmH\n",
            "AaSDTBhH\n",
            "YALHjlE\n",
            "HCgbvx\n",
            "oxwrPNLO\n",
            "fUpzQm\n",
            "DZfgMmqy\n",
            "fGDocYVI\n",
            "ZepJzw\n",
            "ghEmndq\n",
            "rvlJEH\n",
            "vkAFYNwH\n",
            "wALeiyh\n",
            "sBLulNtk\n",
            "NEnFWgRH\n",
            "tEMcJC\n",
            "LVQJvRM\n",
            "XvrzAg\n",
            "mwTYLe\n",
            "WnEVdKj\n",
            "okCGxP\n",
            "UmodShy\n",
            "NZJCrb\n",
            "JlovVeZT\n",
            "uhlLTfiH\n",
            "XOJfkFM\n",
            "OreZxdCE\n",
            "pCPKcujS\n",
            "nAbgDuUi\n",
            "aowAHC\n",
            "tOJFjm\n",
            "KgJAqlV\n",
            "GEnDbWV\n",
            "hnrBzPSH\n",
            "nOqfFPo\n",
            "bJjeNQv\n",
            "HVKvlO\n",
            "ClDijFkY\n",
            "UxYCQD\n",
            "aEPUCxth\n",
            "KXDHqxEo\n",
            "LjiAkBu\n",
            "kNFYLOd\n",
            "fnakrM\n",
            "qVGleb\n",
            "xnMjCFa\n",
            "NSOqfQyU\n",
            "HsOuoz\n",
            "OxgSMuvT\n",
            "AUSZjMYX\n",
            "RgezXiEN\n",
            "tbPGWFS\n",
            "XrEUqDm\n",
            "FTtavqIy\n",
            "sxFYIPRX\n",
            "vNoChI\n",
            "ZHWgjT\n",
            "FZUTsja\n",
            "dVslfOHZ\n",
            "eUjrgDla\n",
            "YgEPDWIa\n",
            "AIvrGn\n",
            "TEGiRD\n",
            "HLhNsgvd\n",
            "djTRKg\n",
            "rznVaye\n",
            "bBNOEy\n",
            "LlkKmeud\n",
            "QuBGMhbN\n",
            "NVJYjG\n",
            "fqFrwRHc\n",
            "rIJWCpT\n",
            "ASTZaNbs\n",
            "XedpkVEv\n",
            "EJhHjZvx\n",
            "BkQZJhd\n",
            "QbdzLikF\n",
            "rZNcbS\n",
            "pVeTWbBR\n",
            "mypCWY\n",
            "GKhpkP\n",
            "JnBVSp\n",
            "fxymdGVe\n",
            "NJhCOI\n",
            "BVybOkQ\n",
            "LQzUuVR\n",
            "SDimskQU\n",
            "IYUtVQy\n",
            "WlFuXr\n",
            "Prime Numbers between 600 and 800\n",
            "601\n",
            "607\n",
            "613\n",
            "617\n",
            "619\n",
            "631\n",
            "641\n",
            "643\n",
            "647\n",
            "653\n",
            "659\n",
            "661\n",
            "673\n",
            "677\n",
            "683\n",
            "691\n",
            "701\n",
            "709\n",
            "719\n",
            "727\n",
            "733\n",
            "739\n",
            "743\n",
            "751\n",
            "757\n",
            "761\n",
            "769\n",
            "773\n",
            "787\n",
            "797\n",
            "Numbers between 100 and 1000 that are divisible by 7 and 9\n",
            "126\n",
            "189\n",
            "252\n",
            "315\n",
            "378\n",
            "441\n",
            "504\n",
            "567\n",
            "630\n",
            "693\n",
            "756\n",
            "819\n",
            "882\n",
            "945\n"
          ]
        }
      ]
    },
    {
      "cell_type": "markdown",
      "source": [
        "\n",
        "\n",
        "---\n",
        "**Q5.** WAP to create two lists of 10 random numbers between 10 and 30; Find\n",
        "\n",
        "(i) Common numbers in the two lists\n",
        "\n",
        "(ii) Unique numbers in both the list\n",
        "\n",
        "(iii) Minimum in both the list\n",
        "\n",
        "(iv) Maximum in both the list\n",
        "\n",
        "(v) Sum of both the lists"
      ],
      "metadata": {
        "id": "E7I2nssYBcXN"
      }
    },
    {
      "cell_type": "code",
      "source": [
        "import random as r\n",
        "import string as s\n",
        "def getsum(A):\n",
        "  sum = 0\n",
        "  for i in A:\n",
        "    sum=sum+i\n",
        "  return sum\n",
        "\n",
        "A=r.sample(range(10,31),10)\n",
        "B=r.sample(range(10,31),10)\n",
        "print(\"List A is \",A)\n",
        "print(\"List B is \",B)\n",
        "#1\n",
        "common_numbers = list(set(A) & set(B))\n",
        "print(\"Common numbers:\", common_numbers)\n",
        "#2\n",
        "unique_numbers = list(set(A+B))\n",
        "print(\"Unique numbers:\", unique_numbers)\n",
        "#3\n",
        "print(\"Minimum number in A is \",min(A))\n",
        "print(\"Minimum number in B is \",min(B))\n",
        "print(\"Minimum number in A and B is \",min(min(A),min(B)))\n",
        "#4\n",
        "print(\"Maximum number in A is \",max(A))\n",
        "print(\"Maximum number in B is \",max(B))\n",
        "print(\"Maximum number in A and B is \",max(max(A),max(B)))\n",
        "#5\n",
        "sum_total = getsum(A)+getsum(B)\n",
        "print(\"Total sum of both list is \",sum_total)\n",
        "\n"
      ],
      "metadata": {
        "colab": {
          "base_uri": "https://localhost:8080/"
        },
        "id": "rlga_Jh4Hikd",
        "outputId": "8c7b02ac-bbea-42dd-f99e-cd3274ea8ea3"
      },
      "execution_count": 33,
      "outputs": [
        {
          "output_type": "stream",
          "name": "stdout",
          "text": [
            "List A is  [29, 28, 30, 15, 24, 11, 16, 23, 20, 18]\n",
            "List B is  [11, 24, 15, 18, 22, 23, 21, 16, 29, 27]\n",
            "Common numbers: [11, 15, 16, 18, 23, 24, 29]\n",
            "Unique numbers: [11, 15, 16, 18, 20, 21, 22, 23, 24, 27, 28, 29, 30]\n",
            "Minimum number in A is  11\n",
            "Minimum number in B is  11\n",
            "Minimum number in A and B is  11\n",
            "Maximum number in A is  30\n",
            "Maximum number in B is  29\n",
            "Maximum number in A and B is  30\n",
            "Total sum of both list is  420\n"
          ]
        }
      ]
    },
    {
      "cell_type": "markdown",
      "source": [
        "\n",
        "\n",
        "---\n",
        "**Q6.** WAP to create a list of 100 random numbers between 100 and 900. Count and print the:\n",
        "\n",
        "(i) All odd numbers\n",
        "\n",
        "(ii) All even numbers\n",
        "\n",
        "(iii) All prime numbers"
      ],
      "metadata": {
        "id": "ghva52XrJQab"
      }
    },
    {
      "cell_type": "code",
      "source": [
        "A= r.sample(range(100,901), 100)\n",
        "#1\n",
        "print(\"ODD\")\n",
        "count_odd=0\n",
        "for i in A:\n",
        "  if (i%2!=0):\n",
        "    print(i)\n",
        "    count_odd=count_odd+1\n",
        "print(\"No of odd numbers are \", count_odd)\n",
        "#2\n",
        "print(\"EVEN\")\n",
        "count_even=0\n",
        "for i in A:\n",
        "  if (i%2==0):\n",
        "    print(i)\n",
        "    count_even=count_even+1\n",
        "print(\"No of even numbers are \", count_even)\n",
        "#2\n",
        "print(\"PRIME\")\n",
        "count_prime=0\n",
        "for i in A:\n",
        "  if (isprime(i)):\n",
        "    print(i)\n",
        "    count_prime=count_prime+1\n",
        "print(\"No of prime numbers are \", count_prime)\n"
      ],
      "metadata": {
        "id": "Qaxz9Ro1IIO_",
        "colab": {
          "base_uri": "https://localhost:8080/"
        },
        "outputId": "1f2f6443-5667-4929-85e5-52621064e1f1"
      },
      "execution_count": 34,
      "outputs": [
        {
          "output_type": "stream",
          "name": "stdout",
          "text": [
            "ODD\n",
            "119\n",
            "423\n",
            "827\n",
            "147\n",
            "663\n",
            "573\n",
            "379\n",
            "271\n",
            "489\n",
            "543\n",
            "599\n",
            "877\n",
            "413\n",
            "793\n",
            "559\n",
            "895\n",
            "687\n",
            "603\n",
            "865\n",
            "465\n",
            "443\n",
            "511\n",
            "861\n",
            "535\n",
            "407\n",
            "869\n",
            "759\n",
            "577\n",
            "665\n",
            "343\n",
            "855\n",
            "375\n",
            "455\n",
            "497\n",
            "403\n",
            "295\n",
            "661\n",
            "463\n",
            "143\n",
            "471\n",
            "873\n",
            "693\n",
            "803\n",
            "377\n",
            "777\n",
            "589\n",
            "813\n",
            "697\n",
            "241\n",
            "No of odd numbers are  49\n",
            "EVEN\n",
            "134\n",
            "532\n",
            "418\n",
            "816\n",
            "374\n",
            "758\n",
            "254\n",
            "196\n",
            "502\n",
            "556\n",
            "628\n",
            "626\n",
            "378\n",
            "632\n",
            "454\n",
            "330\n",
            "676\n",
            "586\n",
            "550\n",
            "648\n",
            "756\n",
            "842\n",
            "782\n",
            "898\n",
            "890\n",
            "520\n",
            "630\n",
            "262\n",
            "304\n",
            "242\n",
            "150\n",
            "408\n",
            "156\n",
            "850\n",
            "564\n",
            "590\n",
            "146\n",
            "870\n",
            "420\n",
            "166\n",
            "878\n",
            "498\n",
            "246\n",
            "100\n",
            "200\n",
            "584\n",
            "562\n",
            "214\n",
            "264\n",
            "114\n",
            "566\n",
            "No of even numbers are  51\n",
            "PRIME\n",
            "827\n",
            "379\n",
            "271\n",
            "599\n",
            "877\n",
            "443\n",
            "577\n",
            "661\n",
            "463\n",
            "241\n",
            "No of prime numbers are  10\n"
          ]
        }
      ]
    },
    {
      "cell_type": "markdown",
      "source": [
        "\n",
        "---\n",
        "**Q7.** D is a dictionary defined as D={1:\"One\",2:\"Two\",3:\"Three\",4:\"Four\", 5:\"Five\"}.\n",
        "\n",
        "WAP to read all the keys and values from dictionary and write to the file in the given below format.\n",
        "\n",
        "Key1, Value1 \n",
        "\n",
        "Key2, Value2 \n",
        "\n",
        "Key3, Value3"
      ],
      "metadata": {
        "id": "lawsmAHpKDUm"
      }
    },
    {
      "cell_type": "code",
      "source": [
        "D={1:\"One\",2:\"Two\",3:\"Three\",4:\"Four\", 5:\"Five\"}\n",
        "fp=open('Dictionary.txt','w')\t\n",
        "for i in D:\n",
        "\tfp.write(str(i)+\" , \"+D[i] + \"\\n\")\n",
        "fp.close()\n",
        "\n",
        "print (\"Writing done !! \\nOpen Dictionary.txt to view the content\")"
      ],
      "metadata": {
        "id": "dfh2fdYgKj-i",
        "colab": {
          "base_uri": "https://localhost:8080/"
        },
        "outputId": "ef45a291-56aa-43ff-d922-8be90ed64935"
      },
      "execution_count": 35,
      "outputs": [
        {
          "output_type": "stream",
          "name": "stdout",
          "text": [
            "Writing done !! \n",
            "Open Dictionary.txt to view the content\n"
          ]
        }
      ]
    },
    {
      "cell_type": "markdown",
      "source": [
        "\n",
        "---\n",
        "**Q8.** L is a list defined as L={\"One\",\"Two\",\"Three\",\"Four\",\"Five\"}.\n",
        "\n",
        "WAP to count the length of reach element from a list and write to the file in the given below format:\n",
        "\n",
        "One, 3 \n",
        "\n",
        "Two, 3\n",
        "\n",
        " Four, 4"
      ],
      "metadata": {
        "id": "GUtojXeNLvUM"
      }
    },
    {
      "cell_type": "code",
      "source": [
        "L={\"One\",\"Two\",\"Three\",\"Four\",\"Five\"}\n",
        "fp=open('List.txt','w')\t\n",
        "for i in L:\n",
        "\tfp.write(i+\" , \"+str(len(i)) + \"\\n\")\n",
        "fp.close()\n",
        "\n",
        "print (\"Writing done !! \\nOpen List.txt to view the content\")"
      ],
      "metadata": {
        "colab": {
          "base_uri": "https://localhost:8080/"
        },
        "id": "AEbHICOcL8wo",
        "outputId": "ebc71118-5377-407b-fb30-f3319906af75"
      },
      "execution_count": 36,
      "outputs": [
        {
          "output_type": "stream",
          "name": "stdout",
          "text": [
            "Writing done !! \n",
            "Open List.txt to view the content\n"
          ]
        }
      ]
    },
    {
      "cell_type": "markdown",
      "source": [
        "\n",
        "---\n",
        "**Q9.** Write to the file 100 random strings whose length between 10 and 15.\n"
      ],
      "metadata": {
        "id": "rz7EXcFQMdpN"
      }
    },
    {
      "cell_type": "code",
      "source": [
        "fp=open('100_randon_strings.txt','w')\t\n",
        "for i in range(0,100):\n",
        "  length = r.randint(10, 15)\n",
        "  random_string = ''.join(r.sample(s.ascii_letters,k=length))\n",
        "  fp.write(random_string + \"\\n\")\n",
        "fp.close()\n",
        "\n",
        "print (\"Writing done !! \\nOpen 100_randon_strings.txt to view the content\")"
      ],
      "metadata": {
        "id": "c29GIWLgMi9z",
        "colab": {
          "base_uri": "https://localhost:8080/"
        },
        "outputId": "1578201f-288d-4370-e1d2-5dbb37c3540b"
      },
      "execution_count": 37,
      "outputs": [
        {
          "output_type": "stream",
          "name": "stdout",
          "text": [
            "Writing done !! \n",
            "Open 100_randon_strings.txt to view the content\n"
          ]
        }
      ]
    },
    {
      "cell_type": "markdown",
      "source": [
        "\n",
        "---\n",
        "**Q10.** Write to the file all prime numbers between 600 and 800.\n"
      ],
      "metadata": {
        "id": "jF3YxTzFNtLI"
      }
    },
    {
      "cell_type": "code",
      "source": [
        "fp=open('prime_numbers.txt','w')\n",
        "for i in range(600,800):\n",
        "  if isprime(i):\n",
        "    fp.write(str(i) +\"\\n\")\n",
        "fp.close()\n",
        "\n",
        "print (\"Writing done !! \\nOpen prime_numbers.txt to view the content\")"
      ],
      "metadata": {
        "colab": {
          "base_uri": "https://localhost:8080/"
        },
        "id": "XPFH-BJFN4cS",
        "outputId": "6ef907a4-5c32-42a2-c00c-1a24b1030743"
      },
      "execution_count": 38,
      "outputs": [
        {
          "output_type": "stream",
          "name": "stdout",
          "text": [
            "Writing done !! \n",
            "Open prime_numbers.txt to view the content\n"
          ]
        }
      ]
    },
    {
      "cell_type": "markdown",
      "source": [
        "\n",
        "---\n",
        "**Q11.** WAP to calculate the time taken by a program.\n",
        "\n"
      ],
      "metadata": {
        "id": "6I08J5ZwOolT"
      }
    },
    {
      "cell_type": "code",
      "source": [
        "import time as t\n",
        "begin = t.time()\n",
        "print(\"Hello World!\") \n",
        "t.sleep(2)\n",
        "end = t.time()\n",
        "print(f\"Total runtime of the program is \",end - begin)"
      ],
      "metadata": {
        "id": "4liU9epvPa2N",
        "colab": {
          "base_uri": "https://localhost:8080/"
        },
        "outputId": "87fc50bd-6a6c-4b85-8de5-4196bee64125"
      },
      "execution_count": 39,
      "outputs": [
        {
          "output_type": "stream",
          "name": "stdout",
          "text": [
            "Hello World!\n",
            "Total runtime of the program is  2.002380847930908\n"
          ]
        }
      ]
    },
    {
      "cell_type": "markdown",
      "source": [
        "\n",
        "---\n",
        "**Q12.** WAP to sort following number of elements in a list, calculate time taken and plot the graph.\n"
      ],
      "metadata": {
        "id": "tkfuZDkZPdDg"
      }
    },
    {
      "cell_type": "code",
      "source": [
        "import time as t\n",
        "import random as r\n",
        "import matplotlib.pyplot as plt\n",
        "ul=100000\n",
        "ll=-100000\n",
        "time=[]\n",
        "size = [5000, 10000, 15000, 20000 , 25000]\n",
        "for s in size:\n",
        "  A = r.sample(range(ll,ul),s)\n",
        "  begin = t.time()\n",
        "  A.sort()\n",
        "  end = t.time()\n",
        "  time.append(end-begin)\n",
        "plt.plot(size, time, 'bo-')\n",
        "plt.xlabel('Number of Elements')\n",
        "plt.ylabel('Time Taken (Seconds)')\n",
        "plt.title('Time vs Number of Elements')\n",
        "plt.show()\n"
      ],
      "metadata": {
        "colab": {
          "base_uri": "https://localhost:8080/",
          "height": 472
        },
        "id": "VOORKigdsKWX",
        "outputId": "335f2012-801c-44b1-f573-53a9586d6b36"
      },
      "execution_count": 40,
      "outputs": [
        {
          "output_type": "display_data",
          "data": {
            "text/plain": [
              "<Figure size 640x480 with 1 Axes>"
            ],
            "image/png": "[encoded data removed]"
          },
          "metadata": {}
        }
      ]
    },
    {
      "cell_type": "markdown",
      "source": [
        "\n",
        "---\n",
        "**Q13.** WAP to create a dictionary of student marks in five subjects and you have to find the student having maximum and minimum average marks.\n",
        "\n"
      ],
      "metadata": {
        "id": "Ciqebz2WPdFv"
      }
    },
    {
      "cell_type": "code",
      "source": [
        "import pandas as pd\n",
        "student_marks = {\n",
        "    \"Alice\": {\"Math\": 85, \"English\": 90, \"Science\": 92, \"History\": 88, \"Geography\": 82},\n",
        "    \"Bob\": {\"Math\": 78, \"English\": 82, \"Science\": 80, \"History\": 75, \"Geography\": 80},\n",
        "    \"Charlie\": {\"Math\": 92, \"English\": 88, \"Science\": 90, \"History\": 85, \"Geography\": 90},\n",
        "    \"David\": {\"Math\": 80, \"English\": 75, \"Science\": 78, \"History\": 82, \"Geography\": 85},\n",
        "    \"Eve\": {\"Math\": 85, \"English\": 90, \"Science\": 82, \"History\": 88, \"Geography\": 90}\n",
        "}\n",
        "average=[]\n",
        "average=pd.Series(average, dtype=float)\n",
        "for s,m in student_marks.items():\n",
        "  avg_marks=(getsum(m.values()))/len(m)\n",
        "  average[s]=avg_marks\n",
        "highest_marks_person = average.idxmax()\n",
        "lowest_marks_person = average.idxmin()\n",
        "print(\"Person with the highest marks:\", highest_marks_person)\n",
        "print(\"Person with the lowest marks:\", lowest_marks_person)\n",
        "\n"
      ],
      "metadata": {
        "colab": {
          "base_uri": "https://localhost:8080/"
        },
        "id": "U_WCttA2Pjjq",
        "outputId": "fabf8186-b8cc-4294-86cc-195fdc5974e2"
      },
      "execution_count": 41,
      "outputs": [
        {
          "output_type": "stream",
          "name": "stdout",
          "text": [
            "Person with the highest marks: Charlie\n",
            "Person with the lowest marks: Bob\n"
          ]
        }
      ]
    }
  ]
}